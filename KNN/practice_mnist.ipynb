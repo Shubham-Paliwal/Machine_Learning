{
 "cells": [
  {
   "cell_type": "markdown",
   "metadata": {},
   "source": [
    "# Recognizing handwritten digits using MNIST dataset"
   ]
  },
  {
   "cell_type": "code",
   "execution_count": 1,
   "metadata": {},
   "outputs": [],
   "source": [
    "import pandas as pd\n",
    "import numpy as np\n",
    "import matplotlib.pyplot as plt"
   ]
  },
  {
   "cell_type": "code",
   "execution_count": 24,
   "metadata": {},
   "outputs": [],
   "source": [
    "td = pd.read_csv('train_mnist.csv')\n",
    "td = td.values"
   ]
  },
  {
   "cell_type": "code",
   "execution_count": 25,
   "metadata": {},
   "outputs": [],
   "source": [
    "xd = td[:, 1:]\n",
    "yd = td[:, 0]"
   ]
  },
  {
   "cell_type": "code",
   "execution_count": 31,
   "metadata": {},
   "outputs": [],
   "source": [
    "# splitting into training and testing data\n",
    "split = int(0.8*xd.shape[0])\n",
    "tx = xd[ : split, :]\n",
    "ty = yd[ : split]\n",
    "testx = xd[split :, :]\n",
    "testy = yd[split : ]"
   ]
  },
  {
   "cell_type": "code",
   "execution_count": 58,
   "metadata": {},
   "outputs": [],
   "source": [
    "def dist(x, y):\n",
    "    return np.sqrt(sum((x - y)**2))\n",
    "def knn(x, y, pt, k):\n",
    "    values = []\n",
    "    for i in range(x.shape[0]):\n",
    "        d = dist(x[i], pt)\n",
    "        values.append((d, y[i]))\n",
    "    values = sorted(values)\n",
    "    values = np.array(values[:k])\n",
    "    freq = np.unique(values[:, 1], return_counts = True)\n",
    "    idx = freq[1].argmax()\n",
    "    return freq[0][idx]"
   ]
  },
  {
   "cell_type": "code",
   "execution_count": 66,
   "metadata": {},
   "outputs": [
    {
     "name": "stdout",
     "output_type": "stream",
     "text": [
      "Accuracy: 0.0\n"
     ]
    }
   ],
   "source": [
    "num = 0\n",
    "den = testy.shape[0]\n",
    "for i in range(testx.shape[0]):\n",
    "    if knn(tx, ty, testx[i], 5) == testy[i] :\n",
    "        num += 1\n",
    "print(\"Accuracy: \" + str(num/den))"
   ]
  },
  {
   "cell_type": "code",
   "execution_count": null,
   "metadata": {},
   "outputs": [],
   "source": []
  }
 ],
 "metadata": {
  "kernelspec": {
   "display_name": "Python 3",
   "language": "python",
   "name": "python3"
  },
  "language_info": {
   "codemirror_mode": {
    "name": "ipython",
    "version": 3
   },
   "file_extension": ".py",
   "mimetype": "text/x-python",
   "name": "python",
   "nbconvert_exporter": "python",
   "pygments_lexer": "ipython3",
   "version": "3.7.4"
  }
 },
 "nbformat": 4,
 "nbformat_minor": 2
}
